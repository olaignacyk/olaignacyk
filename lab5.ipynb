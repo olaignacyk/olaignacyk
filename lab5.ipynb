{
  "nbformat": 4,
  "nbformat_minor": 0,
  "metadata": {
    "colab": {
      "provenance": [],
      "authorship_tag": "ABX9TyNCSAsUeKRDbU/UxIQsR+2v",
      "include_colab_link": true
    },
    "kernelspec": {
      "name": "python3",
      "display_name": "Python 3"
    },
    "language_info": {
      "name": "python"
    }
  },
  "cells": [
    {
      "cell_type": "markdown",
      "metadata": {
        "id": "view-in-github",
        "colab_type": "text"
      },
      "source": [
        "<a href=\"https://colab.research.google.com/github/olaignacyk/olaignacyk/blob/main/lab5.ipynb\" target=\"_parent\"><img src=\"https://colab.research.google.com/assets/colab-badge.svg\" alt=\"Open In Colab\"/></a>"
      ]
    },
    {
      "cell_type": "code",
      "source": [
        "class Point:\n",
        "  def __init__(self, x, y):\n",
        "    self.x = x\n",
        "    self.y = y\n",
        "\n",
        "\n",
        "\n",
        "def check_square_exists(points):\n",
        "    # Sprawdzenie, czy istnieje kwadrat\n",
        "    # Przejście po wszystkich punktach\n",
        "    for p1 in points:\n",
        "        for p2 in points:\n",
        "            for p3 in points:\n",
        "                for p4 in points:\n",
        "                    # Sprawdzenie, czy punkty tworzą kwadrat\n",
        "                    if (p1.x == p2.x and p2.y == p3.y and p3.x == p4.x and p4.y == p1.y \n",
        "                        and ((p1.x - p2.x) == (p1.y - p4.y))):\n",
        "                        # Sprawdzenie, czy w kwadracie nie ma żadnych innych punktów\n",
        "                        for p in points:\n",
        "                            if (p.x > p1.x and p.x < p2.x and p.y > p4.y and p.y < p1.y):\n",
        "                                return False\n",
        "                        return True, p1,p2,p3,p4\n",
        "    return False\n",
        "\n",
        "\n",
        "import matplotlib.pyplot as plt\n",
        "\n",
        "# Funkcja do wyświetlenia punktów\n",
        "def plot_points(points):\n",
        "    x_points = []\n",
        "    y_points = []\n",
        "    for point in points:\n",
        "        x_points.append(point.x)\n",
        "        y_points.append(point.y)\n",
        "    plt.scatter(x_points, y_points)\n",
        "\n",
        "# Funkcja do wyświetlenia kwadratu\n",
        "def plot_square(p1, p2, p3, p4):\n",
        "    x_points = [p1.x, p2.x, p3.x, p4.x, p1.x]\n",
        "    y_points = [p1.y, p2.y, p3.y, p4.y, p1.y]\n",
        "    plt.plot(x_points, y_points)\n",
        "    plt.show()\n",
        "points=[Point(0,1),Point(0,0),Point(1,0),Point(1,1),Point(2,1)]\n",
        "# Wyświetlenie punktów\n",
        "plot_points(points)\n",
        "\n",
        "# Sprawdzenie, czy istnieje kwadrat\n",
        "if check_square_exists(points):\n",
        "    # Wyświetlenie kwadratu\n",
        "    plot_square(check_square_exists(points)[1],check_square_exists(points)[2],check_square_exists(points)[3],check_square_exists(points)[4])\n",
        "    print(\"ISTNIEJE\")\n",
        "else:\n",
        "    print(\"Nie ma kwadratu\")\n",
        "\n",
        "\n",
        "\n",
        "points1=[Point(0,1),Point(0,0),Point(1,0),Point(1,1),Point(2,1),Point(0.5,0.5)]\n",
        "# Wyświetlenie punktów\n",
        "plot_points(points1)\n",
        "\n",
        "# Sprawdzenie, czy istnieje kwadrat\n",
        "if check_square_exists(points1):\n",
        "    # Wyświetlenie kwadratu\n",
        "    plot_square(check_square_exists(points1)[1],check_square_exists(points1)[2],check_square_exists(points1)[3],check_square_exists(points1)[4])\n",
        "    print(\"NIE ISTNIEJE\")\n",
        "else:\n",
        "    # Wyświetlenie kwadratu\n",
        "    plot_square(check_square_exists(points1)[1],check_square_exists(points1)[2],check_square_exists(points1)[3],check_square_exists(points1)[4])\n",
        "    print(\"ISTNIEJE\")"
      ],
      "metadata": {
        "colab": {
          "base_uri": "https://localhost:8080/",
          "height": 548
        },
        "id": "i-PsgXg8Qeyu",
        "outputId": "674de30c-52f7-4f31-93f7-f28aad7f8bf3"
      },
      "execution_count": 33,
      "outputs": [
        {
          "output_type": "display_data",
          "data": {
            "text/plain": [
              "<Figure size 432x288 with 1 Axes>"
            ],
            "image/png": "[encoded data removed]"
          },
          "metadata": {
            "needs_background": "light"
          }
        },
        {
          "output_type": "stream",
          "name": "stdout",
          "text": [
            "ISTNIEJE\n"
          ]
        },
        {
          "output_type": "display_data",
          "data": {
            "text/plain": [
              "<Figure size 432x288 with 1 Axes>"
            ],
            "image/png": "[encoded data removed]"
          },
          "metadata": {
            "needs_background": "light"
          }
        },
        {
          "output_type": "stream",
          "name": "stdout",
          "text": [
            "NIE ISTNIEJE\n"
          ]
        }
      ]
    }
  ]
}